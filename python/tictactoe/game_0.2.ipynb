{
 "cells": [
  {
   "cell_type": "code",
   "execution_count": 1,
   "source": [
    "# globals\r\n",
    "import random\r\n",
    "from IPython.display import clear_output"
   ],
   "outputs": [],
   "metadata": {}
  },
  {
   "cell_type": "code",
   "execution_count": 2,
   "source": [
    "# Step 1: Write a function that can print out a board. Set up your board as a list, \r\n",
    "# where each index 1-9 corresponds with a number on a number pad, \r\n",
    "# so you get a 3 by 3 board representation.\r\n",
    "\r\n",
    "def display_board(board):\r\n",
    "    clear_output()\r\n",
    "    horizontal = ('   |   |   ')\r\n",
    "    vertical = ('---+---+---')\r\n",
    "    line789 = (' '+board[7]+' | '+board[8]+' | '+board[9]+' ')\r\n",
    "    line456 = (' '+board[4]+' | '+board[5]+' | '+board[6]+' ')\r\n",
    "    line123 = (' '+board[1]+' | '+board[2]+' | '+board[3]+' ')\r\n",
    "    print(horizontal)\r\n",
    "    print(line789)\r\n",
    "    print(horizontal)\r\n",
    "    print(vertical)\r\n",
    "    print(horizontal)\r\n",
    "    print(line456)\r\n",
    "    print(horizontal)\r\n",
    "    print(vertical)\r\n",
    "    print(horizontal)\r\n",
    "    print(line123)\r\n",
    "    print(horizontal)"
   ],
   "outputs": [],
   "metadata": {}
  },
  {
   "cell_type": "code",
   "execution_count": 3,
   "source": [
    "# Step 2: Write a function that can take in a player input and assign their marker as 'X' or 'O'. \r\n",
    "# Think about using while loops to continually ask until you get a correct answer.\r\n",
    "\r\n",
    "def player_input_marker():\r\n",
    "    marker1 = ''\r\n",
    "    marker2 = ''\r\n",
    "    while marker1 not in ['X','O']:\r\n",
    "        marker1 = input('Player 1, please select X or O.')\r\n",
    "        if marker1 not in ['X','O']:\r\n",
    "            print(\"Wrong selection! Please choose X or O.\")\r\n",
    "        elif marker1 == 'X':\r\n",
    "            print('Player 1, you have chosen X.')\r\n",
    "        else:\r\n",
    "            print('Player 1, you have chosen O.')    \r\n",
    "    if marker1 == 'X':\r\n",
    "        marker2 = 'O'\r\n",
    "        print(\"Player 2, you are O.\")\r\n",
    "    else:\r\n",
    "        marker2 = 'X'\r\n",
    "        print(\"Player 2, you are X.\")\r\n",
    "    return (marker1, marker2)\r\n",
    "    "
   ],
   "outputs": [],
   "metadata": {}
  },
  {
   "cell_type": "code",
   "execution_count": 4,
   "source": [
    "# Step 3: Write a function that takes in the board list object, a marker ('X' or 'O'), \r\n",
    "# and a desired position (number 1-9) and assigns it to the board.\r\n",
    "\r\n",
    "def place_marker(board, marker, position):\r\n",
    "    board[position] = marker"
   ],
   "outputs": [],
   "metadata": {}
  },
  {
   "cell_type": "code",
   "execution_count": 5,
   "source": [
    "# Step 4: Write a function that takes in a board and a mark (X or O) \r\n",
    "# and then checks to see if that mark has won.\r\n",
    "\r\n",
    "def win_check(board, mark):\r\n",
    "    return ((board[7] == mark and board[8] == mark and board[9] == mark) or # across the top\r\n",
    "    (board[4] == mark and board[5] == mark and board[6] == mark) or # across the middle\r\n",
    "    (board[1] == mark and board[2] == mark and board[3] == mark) or # across the bottom\r\n",
    "    (board[7] == mark and board[4] == mark and board[1] == mark) or # down the middle\r\n",
    "    (board[8] == mark and board[5] == mark and board[2] == mark) or # down the middle\r\n",
    "    (board[9] == mark and board[6] == mark and board[3] == mark) or # down the right side\r\n",
    "    (board[7] == mark and board[5] == mark and board[3] == mark) or # diagonal\r\n",
    "    (board[9] == mark and board[5] == mark and board[1] == mark))\r\n"
   ],
   "outputs": [],
   "metadata": {}
  },
  {
   "cell_type": "code",
   "execution_count": 6,
   "source": [
    "# Step 5: Write a function that uses the random module to randomly decide which player goes first. \r\n",
    "# You may want to lookup random.randint() Return a string of which player went first.\r\n",
    "\r\n",
    "\r\n",
    "def choose_first():\r\n",
    "    if random.randint(1,2) == 1:\r\n",
    "        return \"Player 1\"\r\n",
    "    else:\r\n",
    "        return \"Player 2\"\r\n"
   ],
   "outputs": [],
   "metadata": {}
  },
  {
   "cell_type": "code",
   "execution_count": 7,
   "source": [
    "# Step 6: Write a function that returns a boolean indicating whether a space on the board is freely available.\r\n",
    "\r\n",
    "def space_check(board, position):\r\n",
    "    if board[position] == 'X' or board[position] == 'O':\r\n",
    "        return False"
   ],
   "outputs": [],
   "metadata": {}
  },
  {
   "cell_type": "code",
   "execution_count": 8,
   "source": [
    "# Step 7: Write a function that checks if the board is full and returns a boolean value. \r\n",
    "# True if full, False otherwise.\r\n",
    "\r\n",
    "def full_board_check(board):\r\n",
    "    if ' ' not in board:\r\n",
    "        return True"
   ],
   "outputs": [],
   "metadata": {}
  },
  {
   "cell_type": "code",
   "execution_count": 9,
   "source": [
    "# Step 8: Write a function that asks for a player's next position (as a number 1-9) \r\n",
    "# and then uses the function from step 6 to check if it's a free position. \r\n",
    "# If it is, then return the position for later use.\r\n",
    " \r\n",
    "def position_choice(board):\r\n",
    "    position = 0\r\n",
    "    \r\n",
    "    while position not in [1,2,3,4,5,6,7,8,9] or not space_check(board, position):\r\n",
    "        position = int(input('Choose your next position: (1,2,3,4,5,6,7,8,9) '))\r\n",
    "        \r\n",
    "    return position"
   ],
   "outputs": [],
   "metadata": {}
  },
  {
   "cell_type": "code",
   "execution_count": 10,
   "source": [
    "# Step 9: Write a function that asks the player if they want to play again\r\n",
    "#  and returns a boolean True if they do want to play again.\r\n",
    "\r\n",
    "def replay():\r\n",
    "    choice = \"wrong\"\r\n",
    "    while choice not in ['Y','N']:\r\n",
    "        choice = input(\"Play Again? Y or N: \")\r\n",
    "        if choice not in ['Y','N']:\r\n",
    "            print(\"Sorry, invalid choice, choose Y or N\")\r\n",
    "    if choice == \"Y\":\r\n",
    "        return True\r\n",
    "    else:\r\n",
    "        return False\r\n",
    "    return int(choice)"
   ],
   "outputs": [],
   "metadata": {}
  },
  {
   "cell_type": "code",
   "execution_count": 11,
   "source": [
    "# Step 10: Here comes the hard part! \r\n",
    "# Use while loops and the functions you've made to run the game!\r\n",
    "\r\n",
    "\r\n",
    "while True:\r\n",
    "    # Set the game up here\r\n",
    "    clear_output()\r\n",
    "    print(\"Welcome to TicTacToe.\")\r\n",
    "    gameBoard = ['#',' ',' ',' ',' ',' ',' ',' ',' ',' ']\r\n",
    "    marker1, marker2 = player_input_marker()\r\n",
    "    turn = choose_first()\r\n",
    "    print(turn + ' will start.')\r\n",
    "\r\n",
    "    game_start = input(\"Are you ready? Y/N\")\r\n",
    "    if game_start == 'Y':\r\n",
    "        game_on = True\r\n",
    "    else:\r\n",
    "        game_on = False\r\n",
    "    \r\n",
    "    while game_on:\r\n",
    "        if turn == 1:\r\n",
    "        # Player 1 Turn\r\n",
    "            display_board(gameBoard)\r\n",
    "            print(\"Player 1 turn.\")\r\n",
    "            position = position_choice(gameBoard)\r\n",
    "            place_marker(gameBoard, marker1, position)\r\n",
    "        if win_check(gameBoard,marker1) == True:\r\n",
    "            display_board(gameBoard)\r\n",
    "            print(\"Congratulations! Player 1 wins!\")\r\n",
    "            game_on = False\r\n",
    "        else:\r\n",
    "            if full_board_check(gameBoard) == True:\r\n",
    "                print(\"This game is a draw.\")\r\n",
    "                game_on = False\r\n",
    "                break\r\n",
    "            else:\r\n",
    "                turn = 2\r\n",
    "        if turn == 2:\r\n",
    "        # Player 2 Turn\r\n",
    "            display_board(gameBoard)\r\n",
    "            print(\"Player 2 turn.\")\r\n",
    "            position = position_choice(gameBoard)\r\n",
    "            place_marker(gameBoard, marker2, position)\r\n",
    "        if win_check(gameBoard,marker2) == True:\r\n",
    "            display_board(gameBoard)\r\n",
    "            print(\"Congratulations! Player 2 wins!\")\r\n",
    "            game_on = False\r\n",
    "        else:\r\n",
    "            if full_board_check(gameBoard) == True:\r\n",
    "                print(\"This game is a draw.\")\r\n",
    "                game_on = False\r\n",
    "                break\r\n",
    "            else:\r\n",
    "                turn = 1\r\n",
    "    if not replay():\r\n",
    "        break\r\n"
   ],
   "outputs": [
    {
     "output_type": "stream",
     "name": "stdout",
     "text": [
      "   |   |   \n",
      "   |   |   \n",
      "   |   |   \n",
      "---+---+---\n",
      "   |   |   \n",
      "   |   |   \n",
      "   |   |   \n",
      "---+---+---\n",
      "   |   |   \n",
      "   |   |   \n",
      "   |   |   \n",
      "Player 2 turn.\n"
     ]
    },
    {
     "output_type": "error",
     "ename": "KeyboardInterrupt",
     "evalue": "Interrupted by user",
     "traceback": [
      "\u001b[1;31m---------------------------------------------------------------------------\u001b[0m",
      "\u001b[1;31mKeyboardInterrupt\u001b[0m                         Traceback (most recent call last)",
      "\u001b[1;32m~\\AppData\\Local\\Temp/ipykernel_13092/1366555535.py\u001b[0m in \u001b[0;36m<module>\u001b[1;34m\u001b[0m\n\u001b[0;32m     40\u001b[0m             \u001b[0mdisplay_board\u001b[0m\u001b[1;33m(\u001b[0m\u001b[0mgameBoard\u001b[0m\u001b[1;33m)\u001b[0m\u001b[1;33m\u001b[0m\u001b[1;33m\u001b[0m\u001b[0m\n\u001b[0;32m     41\u001b[0m             \u001b[0mprint\u001b[0m\u001b[1;33m(\u001b[0m\u001b[1;34m\"Player 2 turn.\"\u001b[0m\u001b[1;33m)\u001b[0m\u001b[1;33m\u001b[0m\u001b[1;33m\u001b[0m\u001b[0m\n\u001b[1;32m---> 42\u001b[1;33m             \u001b[0mposition\u001b[0m \u001b[1;33m=\u001b[0m \u001b[0mposition_choice\u001b[0m\u001b[1;33m(\u001b[0m\u001b[0mgameBoard\u001b[0m\u001b[1;33m)\u001b[0m\u001b[1;33m\u001b[0m\u001b[1;33m\u001b[0m\u001b[0m\n\u001b[0m\u001b[0;32m     43\u001b[0m             \u001b[0mplace_marker\u001b[0m\u001b[1;33m(\u001b[0m\u001b[0mgameBoard\u001b[0m\u001b[1;33m,\u001b[0m \u001b[0mmarker2\u001b[0m\u001b[1;33m,\u001b[0m \u001b[0mposition\u001b[0m\u001b[1;33m)\u001b[0m\u001b[1;33m\u001b[0m\u001b[1;33m\u001b[0m\u001b[0m\n\u001b[0;32m     44\u001b[0m         \u001b[1;32mif\u001b[0m \u001b[0mwin_check\u001b[0m\u001b[1;33m(\u001b[0m\u001b[0mgameBoard\u001b[0m\u001b[1;33m,\u001b[0m\u001b[0mmarker2\u001b[0m\u001b[1;33m)\u001b[0m \u001b[1;33m==\u001b[0m \u001b[1;32mTrue\u001b[0m\u001b[1;33m:\u001b[0m\u001b[1;33m\u001b[0m\u001b[1;33m\u001b[0m\u001b[0m\n",
      "\u001b[1;32m~\\AppData\\Local\\Temp/ipykernel_13092/3557176439.py\u001b[0m in \u001b[0;36mposition_choice\u001b[1;34m(board)\u001b[0m\n\u001b[0;32m      7\u001b[0m \u001b[1;33m\u001b[0m\u001b[0m\n\u001b[0;32m      8\u001b[0m     \u001b[1;32mwhile\u001b[0m \u001b[0mposition\u001b[0m \u001b[1;32mnot\u001b[0m \u001b[1;32min\u001b[0m \u001b[1;33m[\u001b[0m\u001b[1;36m1\u001b[0m\u001b[1;33m,\u001b[0m\u001b[1;36m2\u001b[0m\u001b[1;33m,\u001b[0m\u001b[1;36m3\u001b[0m\u001b[1;33m,\u001b[0m\u001b[1;36m4\u001b[0m\u001b[1;33m,\u001b[0m\u001b[1;36m5\u001b[0m\u001b[1;33m,\u001b[0m\u001b[1;36m6\u001b[0m\u001b[1;33m,\u001b[0m\u001b[1;36m7\u001b[0m\u001b[1;33m,\u001b[0m\u001b[1;36m8\u001b[0m\u001b[1;33m,\u001b[0m\u001b[1;36m9\u001b[0m\u001b[1;33m]\u001b[0m \u001b[1;32mor\u001b[0m \u001b[1;32mnot\u001b[0m \u001b[0mspace_check\u001b[0m\u001b[1;33m(\u001b[0m\u001b[0mboard\u001b[0m\u001b[1;33m,\u001b[0m \u001b[0mposition\u001b[0m\u001b[1;33m)\u001b[0m\u001b[1;33m:\u001b[0m\u001b[1;33m\u001b[0m\u001b[1;33m\u001b[0m\u001b[0m\n\u001b[1;32m----> 9\u001b[1;33m         \u001b[0mposition\u001b[0m \u001b[1;33m=\u001b[0m \u001b[0mint\u001b[0m\u001b[1;33m(\u001b[0m\u001b[0minput\u001b[0m\u001b[1;33m(\u001b[0m\u001b[1;34m'Choose your next position: (1,2,3,4,5,6,7,8,9) '\u001b[0m\u001b[1;33m)\u001b[0m\u001b[1;33m)\u001b[0m\u001b[1;33m\u001b[0m\u001b[1;33m\u001b[0m\u001b[0m\n\u001b[0m\u001b[0;32m     10\u001b[0m \u001b[1;33m\u001b[0m\u001b[0m\n\u001b[0;32m     11\u001b[0m     \u001b[1;32mreturn\u001b[0m \u001b[0mposition\u001b[0m\u001b[1;33m\u001b[0m\u001b[1;33m\u001b[0m\u001b[0m\n",
      "\u001b[1;32mc:\\Users\\Ukabi\\Python\\python-projects\\tictactoe\\venv\\lib\\site-packages\\ipykernel\\kernelbase.py\u001b[0m in \u001b[0;36mraw_input\u001b[1;34m(self, prompt)\u001b[0m\n\u001b[0;32m   1004\u001b[0m                 \u001b[1;34m\"raw_input was called, but this frontend does not support input requests.\"\u001b[0m\u001b[1;33m\u001b[0m\u001b[1;33m\u001b[0m\u001b[0m\n\u001b[0;32m   1005\u001b[0m             )\n\u001b[1;32m-> 1006\u001b[1;33m         return self._input_request(\n\u001b[0m\u001b[0;32m   1007\u001b[0m             \u001b[0mstr\u001b[0m\u001b[1;33m(\u001b[0m\u001b[0mprompt\u001b[0m\u001b[1;33m)\u001b[0m\u001b[1;33m,\u001b[0m\u001b[1;33m\u001b[0m\u001b[1;33m\u001b[0m\u001b[0m\n\u001b[0;32m   1008\u001b[0m             \u001b[0mself\u001b[0m\u001b[1;33m.\u001b[0m\u001b[0m_parent_ident\u001b[0m\u001b[1;33m[\u001b[0m\u001b[1;34m\"shell\"\u001b[0m\u001b[1;33m]\u001b[0m\u001b[1;33m,\u001b[0m\u001b[1;33m\u001b[0m\u001b[1;33m\u001b[0m\u001b[0m\n",
      "\u001b[1;32mc:\\Users\\Ukabi\\Python\\python-projects\\tictactoe\\venv\\lib\\site-packages\\ipykernel\\kernelbase.py\u001b[0m in \u001b[0;36m_input_request\u001b[1;34m(self, prompt, ident, parent, password)\u001b[0m\n\u001b[0;32m   1049\u001b[0m             \u001b[1;32mexcept\u001b[0m \u001b[0mKeyboardInterrupt\u001b[0m\u001b[1;33m:\u001b[0m\u001b[1;33m\u001b[0m\u001b[1;33m\u001b[0m\u001b[0m\n\u001b[0;32m   1050\u001b[0m                 \u001b[1;31m# re-raise KeyboardInterrupt, to truncate traceback\u001b[0m\u001b[1;33m\u001b[0m\u001b[1;33m\u001b[0m\u001b[0m\n\u001b[1;32m-> 1051\u001b[1;33m                 \u001b[1;32mraise\u001b[0m \u001b[0mKeyboardInterrupt\u001b[0m\u001b[1;33m(\u001b[0m\u001b[1;34m\"Interrupted by user\"\u001b[0m\u001b[1;33m)\u001b[0m \u001b[1;32mfrom\u001b[0m \u001b[1;32mNone\u001b[0m\u001b[1;33m\u001b[0m\u001b[1;33m\u001b[0m\u001b[0m\n\u001b[0m\u001b[0;32m   1052\u001b[0m             \u001b[1;32mexcept\u001b[0m \u001b[0mException\u001b[0m\u001b[1;33m:\u001b[0m\u001b[1;33m\u001b[0m\u001b[1;33m\u001b[0m\u001b[0m\n\u001b[0;32m   1053\u001b[0m                 \u001b[0mself\u001b[0m\u001b[1;33m.\u001b[0m\u001b[0mlog\u001b[0m\u001b[1;33m.\u001b[0m\u001b[0mwarning\u001b[0m\u001b[1;33m(\u001b[0m\u001b[1;34m\"Invalid Message:\"\u001b[0m\u001b[1;33m,\u001b[0m \u001b[0mexc_info\u001b[0m\u001b[1;33m=\u001b[0m\u001b[1;32mTrue\u001b[0m\u001b[1;33m)\u001b[0m\u001b[1;33m\u001b[0m\u001b[1;33m\u001b[0m\u001b[0m\n",
      "\u001b[1;31mKeyboardInterrupt\u001b[0m: Interrupted by user"
     ]
    }
   ],
   "metadata": {}
  }
 ],
 "metadata": {
  "orig_nbformat": 4,
  "language_info": {
   "name": "python",
   "version": "3.9.7",
   "mimetype": "text/x-python",
   "codemirror_mode": {
    "name": "ipython",
    "version": 3
   },
   "pygments_lexer": "ipython3",
   "nbconvert_exporter": "python",
   "file_extension": ".py"
  },
  "kernelspec": {
   "name": "python3",
   "display_name": "Python 3.9.7 64-bit ('venv': venv)"
  },
  "interpreter": {
   "hash": "79884559532326c859fdba96a924987bf6f9fb09345747f02c8e42d50bdf9a64"
  }
 },
 "nbformat": 4,
 "nbformat_minor": 2
}