{
 "cells": [
  {
   "cell_type": "code",
   "execution_count": 1,
   "source": [
    "# globals\r\n",
    "import random\r\n",
    "from IPython.display import clear_output"
   ],
   "outputs": [],
   "metadata": {}
  },
  {
   "cell_type": "code",
   "execution_count": 2,
   "source": [
    "# Step 1: Write a function that can print out a board. Set up your board as a list, \r\n",
    "# where each index 1-9 corresponds with a number on a number pad, \r\n",
    "# so you get a 3 by 3 board representation.\r\n",
    "\r\n",
    "def display_board(board):\r\n",
    "    horizontal = ('   |   |   ')\r\n",
    "    vertical = ('---+---+---')\r\n",
    "    line789 = (' '+board[7]+' | '+board[8]+' | '+board[9]+' ')\r\n",
    "    line456 = (' '+board[4]+' | '+board[5]+' | '+board[6]+' ')\r\n",
    "    line123 = (' '+board[1]+' | '+board[2]+' | '+board[3]+' ')\r\n",
    "    print(horizontal)\r\n",
    "    print(line789)\r\n",
    "    print(horizontal)\r\n",
    "    print(vertical)\r\n",
    "    print(horizontal)\r\n",
    "    print(line456)\r\n",
    "    print(horizontal)\r\n",
    "    print(vertical)\r\n",
    "    print(horizontal)\r\n",
    "    print(line123)\r\n",
    "    print(horizontal)"
   ],
   "outputs": [],
   "metadata": {}
  },
  {
   "cell_type": "code",
   "execution_count": 3,
   "source": [
    "clear_output()\r\n",
    "test_board = ['#',' ',' ',' ','O','X','O','X','O','X']\r\n",
    "display_board(test_board)"
   ],
   "outputs": [
    {
     "output_type": "stream",
     "name": "stdout",
     "text": [
      "   |   |   \n",
      " X | O | X \n",
      "   |   |   \n",
      "---+---+---\n",
      "   |   |   \n",
      " O | X | O \n",
      "   |   |   \n",
      "---+---+---\n",
      "   |   |   \n",
      "   |   |   \n",
      "   |   |   \n"
     ]
    }
   ],
   "metadata": {}
  },
  {
   "cell_type": "code",
   "execution_count": null,
   "source": [
    "# Step 2: Write a function that can take in a player input and assign their marker as 'X' or 'O'. \r\n",
    "# Think about using while loops to continually ask until you get a correct answer.\r\n",
    "\r\n",
    "def player_input_marker():\r\n",
    "    marker1 = ''\r\n",
    "    marker2 = ''\r\n",
    "    while marker1 not in ['X','O']:\r\n",
    "        marker1 = input('Player 1, please select X or O.')\r\n",
    "        if marker1 not in ['X','O']:\r\n",
    "            print(\"Wrong selection! Please choose X or O.\")\r\n",
    "        elif marker1 == 'X':\r\n",
    "            print('Player 1, you have chosen X.')\r\n",
    "        else:\r\n",
    "            print('Player 1, you have chosen O.')    \r\n",
    "    if marker1 == 'X':\r\n",
    "        marker2 = 'O'\r\n",
    "        print(\"Player 2, you are O.\")\r\n",
    "    else:\r\n",
    "        marker2 = 'X'\r\n",
    "        print(\"Player 2, you are X.\")\r\n",
    "    return (marker1, marker2)\r\n",
    "    "
   ],
   "outputs": [],
   "metadata": {}
  },
  {
   "cell_type": "code",
   "execution_count": null,
   "source": [
    "clear_output()\r\n",
    "player_input_marker()"
   ],
   "outputs": [],
   "metadata": {}
  },
  {
   "cell_type": "code",
   "execution_count": 4,
   "source": [
    "#Step 3: Write a function that takes in the board list object, a marker ('X' or 'O'), \r\n",
    "# and a desired position (number 1-9) and assigns it to the board.\r\n",
    "\r\n",
    "def place_marker(board, marker, position):\r\n",
    "    board[position] = marker"
   ],
   "outputs": [],
   "metadata": {}
  },
  {
   "cell_type": "code",
   "execution_count": 5,
   "source": [
    "place_marker(test_board,'$',1)\r\n",
    "display_board(test_board)"
   ],
   "outputs": [
    {
     "output_type": "stream",
     "name": "stdout",
     "text": [
      "   |   |   \n",
      " X | O | X \n",
      "   |   |   \n",
      "---+---+---\n",
      "   |   |   \n",
      " O | X | O \n",
      "   |   |   \n",
      "---+---+---\n",
      "   |   |   \n",
      " $ |   |   \n",
      "   |   |   \n"
     ]
    }
   ],
   "metadata": {}
  },
  {
   "cell_type": "code",
   "execution_count": null,
   "source": [
    "# Step 4: Write a function that takes in a board and a mark (X or O) \r\n",
    "# and then checks to see if that mark has won.\r\n",
    "\r\n",
    "def win_check(board, mark):\r\n",
    "    return ((board[7] == mark and board[8] == mark and board[9] == mark) or # across the top\r\n",
    "    (board[4] == mark and board[5] == mark and board[6] == mark) or # across the middle\r\n",
    "    (board[1] == mark and board[2] == mark and board[3] == mark) or # across the bottom\r\n",
    "    (board[7] == mark and board[4] == mark and board[1] == mark) or # down the middle\r\n",
    "    (board[8] == mark and board[5] == mark and board[2] == mark) or # down the middle\r\n",
    "    (board[9] == mark and board[6] == mark and board[3] == mark) or # down the right side\r\n",
    "    (board[7] == mark and board[5] == mark and board[3] == mark) or # diagonal\r\n",
    "    (board[9] == mark and board[5] == mark and board[1] == mark))\r\n"
   ],
   "outputs": [],
   "metadata": {}
  },
  {
   "cell_type": "code",
   "execution_count": null,
   "source": [
    "win_check(test_board,'X')"
   ],
   "outputs": [],
   "metadata": {}
  },
  {
   "cell_type": "code",
   "execution_count": null,
   "source": [
    "# Step 5: Write a function that uses the random module to randomly decide which player goes first. \r\n",
    "# You may want to lookup random.randint() Return a string of which player went first.\r\n",
    "\r\n",
    "\r\n",
    "def choose_first():\r\n",
    "    if random.randint(1,2) == 1:\r\n",
    "        return \"Player 1\"\r\n",
    "    else:\r\n",
    "        return \"Player 2\"\r\n"
   ],
   "outputs": [],
   "metadata": {}
  },
  {
   "cell_type": "code",
   "execution_count": null,
   "source": [
    "choose_first()"
   ],
   "outputs": [],
   "metadata": {}
  },
  {
   "cell_type": "code",
   "execution_count": 6,
   "source": [
    "# Step 6: Write a function that returns a boolean indicating whether a space on the board is freely available.\r\n",
    "\r\n",
    "def space_check(board, position):\r\n",
    "    if board[position] == 'X' or board[position] == 'O':\r\n",
    "        return False\r\n",
    "        \r\n"
   ],
   "outputs": [],
   "metadata": {}
  },
  {
   "cell_type": "code",
   "execution_count": 7,
   "source": [
    "print(space_check(test_board,1))"
   ],
   "outputs": [
    {
     "output_type": "stream",
     "name": "stdout",
     "text": [
      "None\n"
     ]
    }
   ],
   "metadata": {}
  },
  {
   "cell_type": "code",
   "execution_count": 9,
   "source": [
    "# Step 7: Write a function that checks if the board is full and returns a boolean value. \r\n",
    "# True if full, False otherwise.\r\n",
    "\r\n",
    "def full_board_check(board):\r\n",
    "    if ' ' not in board:\r\n",
    "        return True"
   ],
   "outputs": [],
   "metadata": {}
  },
  {
   "cell_type": "code",
   "execution_count": 10,
   "source": [
    "print(full_board_check(test_board))"
   ],
   "outputs": [
    {
     "output_type": "stream",
     "name": "stdout",
     "text": [
      "None\n"
     ]
    }
   ],
   "metadata": {}
  },
  {
   "cell_type": "code",
   "execution_count": null,
   "source": [
    "# Step 8: Write a function that asks for a player's next position (as a number 1-9) \r\n",
    "# and then uses the function from step 6 to check if it's a free position. \r\n",
    "# If it is, then return the position for later use.\r\n",
    " \r\n",
    "def player_choice(board):\r\n",
    "    position = 0\r\n",
    "    \r\n",
    "    while position not in [1,2,3,4,5,6,7,8,9] or not space_check(board, position):\r\n",
    "        position = int(input('Choose your next position: (1,2,3,4,5,6,7,8,9) '))\r\n",
    "        \r\n",
    "    return position"
   ],
   "outputs": [],
   "metadata": {}
  },
  {
   "cell_type": "code",
   "execution_count": null,
   "source": [
    "player_choice(test_board)\r\n",
    "display_board(test_board)"
   ],
   "outputs": [],
   "metadata": {}
  },
  {
   "cell_type": "code",
   "execution_count": null,
   "source": [
    "# Step 9: Write a function that asks the player if they want to play again\r\n",
    "#  and returns a boolean True if they do want to play again.\r\n",
    "\r\n",
    "def replay():\r\n",
    "    choice = \"wrong\"\r\n",
    "    while choice not in ['Y','N']:\r\n",
    "        choice = input(\"Play Again? Y or N: \")\r\n",
    "        if choice not in ['Y','N']:\r\n",
    "            print(\"Sorry, invalid choice, choose Y or N\")\r\n",
    "    if choice == \"Y\":\r\n",
    "        return True\r\n",
    "    else:\r\n",
    "        return False\r\n",
    "    return int(choice)"
   ],
   "outputs": [],
   "metadata": {}
  },
  {
   "cell_type": "code",
   "execution_count": null,
   "source": [
    "replay()"
   ],
   "outputs": [],
   "metadata": {}
  },
  {
   "cell_type": "code",
   "execution_count": null,
   "source": [
    "# Step 10: Here comes the hard part! \r\n",
    "# Use while loops and the functions you've made to run the game!\r\n",
    "\r\n",
    "while True:\r\n",
    "    # Set the game up here\r\n",
    "    board = ['#',' ',' ',' ',' ',' ',' ',' ',' ',' ']\r\n",
    "    display_board(board)\r\n",
    "    \r\n",
    "    #pass\r\n",
    "\r\n",
    "    #while game_on:\r\n",
    "        #Player 1 Turn\r\n",
    "        \r\n",
    "        \r\n",
    "        # Player2's turn.\r\n",
    "            \r\n",
    "        \r\n",
    "\r\n",
    "    #if not replay():\r\n",
    "        #break\r\n"
   ],
   "outputs": [],
   "metadata": {}
  }
 ],
 "metadata": {
  "orig_nbformat": 4,
  "language_info": {
   "name": "python",
   "version": "3.9.7",
   "mimetype": "text/x-python",
   "codemirror_mode": {
    "name": "ipython",
    "version": 3
   },
   "pygments_lexer": "ipython3",
   "nbconvert_exporter": "python",
   "file_extension": ".py"
  },
  "kernelspec": {
   "name": "python3",
   "display_name": "Python 3.9.7 64-bit ('venv': venv)"
  },
  "interpreter": {
   "hash": "79884559532326c859fdba96a924987bf6f9fb09345747f02c8e42d50bdf9a64"
  }
 },
 "nbformat": 4,
 "nbformat_minor": 2
}